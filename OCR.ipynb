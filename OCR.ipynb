{
  "nbformat": 4,
  "nbformat_minor": 0,
  "metadata": {
    "colab": {
      "provenance": [],
      "gpuType": "T4"
    },
    "kernelspec": {
      "name": "python3",
      "display_name": "Python 3"
    },
    "language_info": {
      "name": "python"
    },
    "accelerator": "GPU"
  },
  "cells": [
    {
      "cell_type": "code",
      "source": [
        "from google.colab import drive\n",
        "drive.mount('/content/drive')"
      ],
      "metadata": {
        "colab": {
          "base_uri": "https://localhost:8080/"
        },
        "id": "ba99K3MaaBe3",
        "outputId": "babf48ad-2be6-4d87-bebc-f7475d8dbe90"
      },
      "execution_count": 2,
      "outputs": [
        {
          "output_type": "stream",
          "name": "stdout",
          "text": [
            "Mounted at /content/drive\n"
          ]
        }
      ]
    },
    {
      "cell_type": "code",
      "source": [
        "# Navigating to google drive\n",
        "%cd /content/drive/MyDrive"
      ],
      "metadata": {
        "colab": {
          "base_uri": "https://localhost:8080/"
        },
        "id": "rT1C4VFeay68",
        "outputId": "327a810e-ed7b-4161-eb67-ae369f4dbcea"
      },
      "execution_count": 3,
      "outputs": [
        {
          "output_type": "stream",
          "name": "stdout",
          "text": [
            "/content/drive/MyDrive\n"
          ]
        }
      ]
    },
    {
      "cell_type": "code",
      "source": [
        "# Unzipping the files\n",
        "!unzip samples1-200.zip\n",
        "!unzip samples201-400.zip\n",
        "!unzip samples401-600.zip\n",
        "!unzip samples601-800.zip\n",
        "!unzip samples801-1000.zip"
      ],
      "metadata": {
        "colab": {
          "base_uri": "https://localhost:8080/"
        },
        "id": "pSSf_FoZa_PP",
        "outputId": "f88817fe-1fd3-44db-85a4-188aca8ff392"
      },
      "execution_count": null,
      "outputs": [
        {
          "output_type": "stream",
          "name": "stdout",
          "text": [
            "Archive:  samples1-200.zip\n",
            "replace aaqzm.png? [y]es, [n]o, [A]ll, [N]one, [r]ename: Archive:  samples201-400.zip\n",
            "replace eossn.png? [y]es, [n]o, [A]ll, [N]one, [r]ename: Archive:  samples401-600.zip\n",
            "replace kkhvr.png? [y]es, [n]o, [A]ll, [N]one, [r]ename: Archive:  samples601-800.zip\n",
            "replace ppqfc.png? [y]es, [n]o, [A]ll, [N]one, [r]ename: Archive:  samples801-1000.zip\n",
            "replace ursue.png? [y]es, [n]o, [A]ll, [N]one, [r]ename: "
          ]
        }
      ]
    },
    {
      "cell_type": "code",
      "source": [
        "import cv2\n",
        "import os\n",
        "import numpy as np\n",
        "\n",
        "# Create an empty list to store the split grayscale images\n",
        "split_images = []\n",
        "names = []\n",
        "\n",
        "# Loop through all files in the directory\n",
        "for filename in os.listdir('.'):\n",
        "    # Check if the file is an image\n",
        "    if filename.endswith('.png'):\n",
        "        letters = filename.split(\".\")[0]\n",
        "        # Read the image using OpenCV\n",
        "        image = cv2.imread(filename)\n",
        "        # Convert the image to grayscale\n",
        "        grayscale_image = cv2.cvtColor(image, cv2.COLOR_BGR2GRAY)\n",
        "        # Split the grayscale image into five equal parts\n",
        "        height, width = grayscale_image.shape\n",
        "        split_width = width // 5\n",
        "        for i in range(5):\n",
        "            start = i * split_width\n",
        "            end = (i + 1) * split_width\n",
        "            split_image = grayscale_image[:, start:end]\n",
        "            # Append the split grayscale image to the list\n",
        "            split_images.append(split_image)\n",
        "            names.append(letters[i])\n",
        "\n",
        "# Convert the list of split grayscale images to a NumPy array\n",
        "split_images_array = np.array(split_images)"
      ],
      "metadata": {
        "id": "FQqf_tKcbRxg"
      },
      "execution_count": 4,
      "outputs": []
    },
    {
      "cell_type": "code",
      "source": [
        "# A single character gray scale image forms a numpy array like this\n",
        "split_images_array[0]"
      ],
      "metadata": {
        "colab": {
          "base_uri": "https://localhost:8080/"
        },
        "id": "nS3ZF_Pg1gal",
        "outputId": "2b967acb-1771-47c2-fa59-e85508307cca"
      },
      "execution_count": 5,
      "outputs": [
        {
          "output_type": "execute_result",
          "data": {
            "text/plain": [
              "array([[248, 248, 248, ..., 248, 248, 248],\n",
              "       [248, 248, 248, ..., 231, 231, 248],\n",
              "       [248, 248, 248, ..., 111, 197, 248],\n",
              "       ...,\n",
              "       [248, 248, 248, ..., 111, 231, 248],\n",
              "       [248, 248, 248, ..., 197, 231, 248],\n",
              "       [248, 248, 248, ..., 248, 248, 248]], dtype=uint8)"
            ]
          },
          "metadata": {},
          "execution_count": 5
        }
      ]
    },
    {
      "cell_type": "code",
      "source": [
        "# Appying thresholding\n",
        "import skimage.io as io\n",
        "import numpy as np\n",
        "from matplotlib import pyplot as plt\n",
        "from skimage.filters import threshold_otsu\n",
        "from skimage.morphology import erosion, dilation\n",
        "%matplotlib inline\n",
        "\n",
        "split_images_binary = []\n",
        "\n",
        "# Loop through all split images\n",
        "for img in split_images_array:\n",
        "    # Apply thresholding to convert the image to binary\n",
        "    th = threshold_otsu(img)\n",
        "    # _, binary_image = cv2.threshold(img, th, 255, cv2.THRESH_BINARY)\n",
        "    binary_image = img > th\n",
        "    # Append the binary image to the list\n",
        "    split_images_binary.append(binary_image)\n",
        "\n",
        "# Convert the list of binary images to a NumPy array\n",
        "split_images_binary_array = np.array(split_images_binary)"
      ],
      "metadata": {
        "id": "N4aO0O0q0zso"
      },
      "execution_count": 6,
      "outputs": []
    },
    {
      "cell_type": "code",
      "source": [
        "#Printing image to observe changes\n",
        "imgno = 100\n",
        "fig, (ax1, ax2) = plt.subplots(2, 1, figsize=(2, 3))\n",
        "ax1.imshow(split_images[imgno], 'gray', aspect='auto')\n",
        "ax1.set_title('Original image')\n",
        "ax1.set_xticks([])\n",
        "ax1.set_yticks([])\n",
        "ax2.imshow(split_images_binary[imgno], 'gray', aspect='auto')\n",
        "ax2.set_title('Binary image')\n",
        "ax2.set_yticks([])\n",
        "plt.tight_layout()\n",
        "plt.show()\n",
        "print(names[imgno])"
      ],
      "metadata": {
        "colab": {
          "base_uri": "https://localhost:8080/",
          "height": 323
        },
        "id": "Xi48sA_N08Uv",
        "outputId": "cd2c2002-5fbf-45b5-817e-47a8cc78bf21"
      },
      "execution_count": 9,
      "outputs": [
        {
          "output_type": "display_data",
          "data": {
            "text/plain": [
              "<Figure size 200x300 with 2 Axes>"
            ],
            "image/png": "[encoded data removed]"
          },
          "metadata": {}
        },
        {
          "output_type": "stream",
          "name": "stdout",
          "text": [
            "y\n"
          ]
        }
      ]
    },
    {
      "cell_type": "code",
      "source": [
        "# First dilation\n",
        "split_images_dilation = []\n",
        "\n",
        "for img in split_images_binary:\n",
        "    kernel = np.ones((3,3), np.uint8)\n",
        "    img_dilated = dilation(img, kernel)\n",
        "    split_images_dilation.append(img_dilated)\n",
        "\n",
        "split_images_dilation_array = np.array(split_images_dilation)"
      ],
      "metadata": {
        "id": "ahVmtSL3AolE"
      },
      "execution_count": 10,
      "outputs": []
    },
    {
      "cell_type": "code",
      "source": [
        "# Printing image to observe changes\n",
        "fig, (ax1, ax2) = plt.subplots(2, 1, figsize=(2, 3))\n",
        "ax1.imshow(split_images_binary[imgno], 'gray', aspect='auto')\n",
        "ax1.set_title('Original image')\n",
        "ax1.set_xticks([])\n",
        "ax1.set_yticks([])\n",
        "ax2.imshow(split_images_dilation[imgno], 'gray', aspect='auto')\n",
        "ax2.set_title('Binary image')\n",
        "ax2.set_yticks([])\n",
        "plt.tight_layout()\n",
        "plt.show()\n",
        "print(names[imgno])"
      ],
      "metadata": {
        "colab": {
          "base_uri": "https://localhost:8080/",
          "height": 323
        },
        "id": "KeSOHNzE3Txj",
        "outputId": "49115932-436b-49b6-bd3e-bc043050e836"
      },
      "execution_count": 11,
      "outputs": [
        {
          "output_type": "display_data",
          "data": {
            "text/plain": [
              "<Figure size 200x300 with 2 Axes>"
            ],
            "image/png": "[encoded data removed]"
          },
          "metadata": {}
        },
        {
          "output_type": "stream",
          "name": "stdout",
          "text": [
            "y\n"
          ]
        }
      ]
    },
    {
      "cell_type": "code",
      "source": [
        "# First erosion after 1 dilation\n",
        "split_images_erosion = []\n",
        "\n",
        "for img_dilated in split_images_dilation:\n",
        "    img_eroded = erosion(img_dilated)\n",
        "    split_images_erosion.append(img_eroded)\n",
        "\n",
        "split_images_erosion_array = np.array(split_images_erosion)"
      ],
      "metadata": {
        "id": "jano8BvT3ruc"
      },
      "execution_count": 12,
      "outputs": []
    },
    {
      "cell_type": "code",
      "source": [
        "# Printing image to observe changes\n",
        "fig, (ax1, ax2) = plt.subplots(2, 1, figsize=(2, 3))\n",
        "ax1.imshow(split_images_dilation[imgno], 'gray', aspect='auto')\n",
        "ax1.set_title('Original image')\n",
        "ax1.set_xticks([])\n",
        "ax1.set_yticks([])\n",
        "ax2.imshow(split_images_erosion[imgno], 'gray', aspect='auto')\n",
        "ax2.set_title('Binary image')\n",
        "ax2.set_yticks([])\n",
        "plt.tight_layout()\n",
        "plt.show()\n",
        "print(names[imgno])"
      ],
      "metadata": {
        "colab": {
          "base_uri": "https://localhost:8080/",
          "height": 323
        },
        "id": "oKVzD24A4yaW",
        "outputId": "bb68b7c9-1fca-41be-fdb4-d81e76650041"
      },
      "execution_count": 13,
      "outputs": [
        {
          "output_type": "display_data",
          "data": {
            "text/plain": [
              "<Figure size 200x300 with 2 Axes>"
            ],
            "image/png": "[encoded data removed]"
          },
          "metadata": {}
        },
        {
          "output_type": "stream",
          "name": "stdout",
          "text": [
            "y\n"
          ]
        }
      ]
    },
    {
      "cell_type": "code",
      "source": [
        "# Second dilation after 1 dilation and 1 erosion\n",
        "split_images_ded = []\n",
        "\n",
        "for img in split_images_erosion:\n",
        "    kernel = np.ones((4,1), np.uint8)\n",
        "    img_ded = dilation(img, kernel)\n",
        "    split_images_ded.append(img_ded)\n",
        "\n",
        "split_images_ded_array = np.array(split_images_ded)"
      ],
      "metadata": {
        "id": "3I_qWtKH5s6J"
      },
      "execution_count": 14,
      "outputs": []
    },
    {
      "cell_type": "code",
      "source": [
        "# Printing image to observe changes\n",
        "fig, (ax1, ax2) = plt.subplots(2, 1, figsize=(2, 3))\n",
        "ax1.imshow(split_images_erosion[imgno], 'gray', aspect='auto')\n",
        "ax1.set_title('Original image')\n",
        "ax1.set_xticks([])\n",
        "ax1.set_yticks([])\n",
        "ax2.imshow(split_images_ded[imgno], 'gray', aspect='auto')\n",
        "ax2.set_title('Binary image')\n",
        "ax2.set_yticks([])\n",
        "plt.tight_layout()\n",
        "plt.show()\n",
        "print(names[imgno])"
      ],
      "metadata": {
        "colab": {
          "base_uri": "https://localhost:8080/",
          "height": 323
        },
        "id": "g0_y2CtE6Zpm",
        "outputId": "9eceddf2-eada-4600-ef50-1c2e9597bd71"
      },
      "execution_count": 15,
      "outputs": [
        {
          "output_type": "display_data",
          "data": {
            "text/plain": [
              "<Figure size 200x300 with 2 Axes>"
            ],
            "image/png": "[encoded data removed]"
          },
          "metadata": {}
        },
        {
          "output_type": "stream",
          "name": "stdout",
          "text": [
            "y\n"
          ]
        }
      ]
    },
    {
      "cell_type": "code",
      "source": [
        "# Splitting into test and train datasets\n",
        "import numpy as np\n",
        "from sklearn.model_selection import train_test_split\n",
        "from sklearn.linear_model import LogisticRegression\n",
        "from sklearn.svm import SVC\n",
        "from sklearn.ensemble import RandomForestClassifier\n",
        "from sklearn.metrics import accuracy_score\n",
        "from sklearn.metrics import precision_score\n",
        "from sklearn.metrics import recall_score\n",
        "from sklearn.metrics import f1_score\n",
        "\n",
        "# Assuming you have split_images_array and names\n",
        "# Preprocess the data\n",
        "# After checking all possible cases, we have used 1 dilation and 1 erosion to get best results\n",
        "X = split_images_erosion_array.reshape(split_images_erosion_array.shape[0], -1) / 32\n",
        "y = names\n",
        "\n",
        "# Maintaining a numpy array with proper image shapes for training neural network\n",
        "X_nn =split_images_erosion_array\n",
        "\n",
        "# Split the dataset into training and testing sets\n",
        "X_train, X_test, y_train, y_test = train_test_split(X, y, test_size=0.2, random_state=1)\n",
        "X_train_nn, X_test_nn, y_train_nn, y_test_nn = train_test_split(X_nn, y, test_size=0.2, random_state=1)"
      ],
      "metadata": {
        "id": "viWOunXAbtFP"
      },
      "execution_count": 27,
      "outputs": []
    },
    {
      "cell_type": "code",
      "source": [
        "# Train the logistic regression model\n",
        "model_lr = LogisticRegression()\n",
        "model_lr.fit(X_train, y_train)\n",
        "\n",
        "# Predict the labels for the test data\n",
        "y_pred_lr = model_lr.predict(X_test)"
      ],
      "metadata": {
        "id": "AzuWkRLwBVyh"
      },
      "execution_count": 17,
      "outputs": []
    },
    {
      "cell_type": "code",
      "source": [
        "# Train the svm model\n",
        "model_svm = SVC(C=2, kernel = 'rbf', gamma = 10)\n",
        "model_svm.fit(X_train, y_train)\n",
        "\n",
        "# Predict the labels for the test data\n",
        "y_pred_svm = model_svm.predict(X_test)"
      ],
      "metadata": {
        "id": "rj4fNgBMimON"
      },
      "execution_count": 18,
      "outputs": []
    },
    {
      "cell_type": "code",
      "source": [
        "# Train the random forest model\n",
        "model_rf = RandomForestClassifier(n_estimators=650, criterion = 'gini', max_depth = 100, min_samples_split = 3, max_features = 'log2')\n",
        "model_rf.fit(X_train, y_train)\n",
        "\n",
        "# Predict the labels for the test data\n",
        "y_pred_rf = model_rf.predict(X_test)"
      ],
      "metadata": {
        "id": "iE6INlXXBH_w"
      },
      "execution_count": 19,
      "outputs": []
    },
    {
      "cell_type": "code",
      "source": [
        "# Evaluate the scores of the LR\n",
        "accuracy_lr = accuracy_score(y_test, y_pred_lr)\n",
        "ps_lr = precision_score(y_test, y_pred_lr, average='weighted')\n",
        "rs_lr = recall_score(y_test, y_pred_lr, average='weighted')\n",
        "f1_lr = f1_score(y_test, y_pred_lr, average='weighted')\n",
        "print(\"Accuracy of Logistic Regression:\", accuracy_lr*100)\n",
        "print(\"Precison score of Logistic Regression:\", ps_lr)\n",
        "print(\"Recall Score of Logistic Regression:\", rs_lr)\n",
        "print(\"F1 Score of Logistic Regression:\", f1_lr)\n",
        "print(\"\")\n",
        "\n",
        "# Evaluate the scores of the SVM\n",
        "accuracy_svm = accuracy_score(y_test, y_pred_svm)\n",
        "ps_svm = precision_score(y_test, y_pred_svm, average='weighted')\n",
        "rs_svm = recall_score(y_test, y_pred_svm, average='weighted')\n",
        "f1_svm = f1_score(y_test, y_pred_svm, average='weighted')\n",
        "print(\"Accuracy of SVM:\", accuracy_svm*100)\n",
        "print(\"Precison score of SVM:\", ps_svm)\n",
        "print(\"Recall Score of SVM:\", rs_svm)\n",
        "print(\"F1 Score of SVM:\", f1_svm)\n",
        "print(\"\")\n",
        "\n",
        "# Evaluate the scores of the RF\n",
        "accuracy_rf = accuracy_score(y_test, y_pred_rf)\n",
        "ps_rf = precision_score(y_test, y_pred_rf, average='weighted')\n",
        "rs_rf = recall_score(y_test, y_pred_rf, average='weighted')\n",
        "f1_rf = f1_score(y_test, y_pred_rf, average='weighted')\n",
        "print(\"Accuracy of Random Forest:\", accuracy_rf*100)\n",
        "print(\"Precison score of Random Forest:\", ps_rf)\n",
        "print(\"Recall Score of Random Forest:\", rs_rf)\n",
        "print(\"F1 Score of Random Forest:\", f1_rf)"
      ],
      "metadata": {
        "colab": {
          "base_uri": "https://localhost:8080/"
        },
        "id": "H_MyAUbFJm6R",
        "outputId": "6bd5bff0-5f17-4726-8bfa-d88f68b98dae"
      },
      "execution_count": null,
      "outputs": [
        {
          "output_type": "stream",
          "name": "stdout",
          "text": [
            "Accuracy of Logistic Regression: 60.0\n",
            "Precison score of Logistic Regression: 0.6461632618915196\n",
            "Recall Score of Logistic Regression: 0.6\n",
            "F1 Score of Logistic Regression: 0.6052123203662458\n",
            "\n",
            "Accuracy of SVM: 74.3\n",
            "Precison score of SVM: 0.7532930283547948\n",
            "Recall Score of SVM: 0.743\n",
            "F1 Score of SVM: 0.7449632351782526\n",
            "\n",
            "Accuracy of Random Forest: 74.9\n",
            "Precison score of Random Forest: 0.7595426501295861\n",
            "Recall Score of Random Forest: 0.749\n",
            "F1 Score of Random Forest: 0.7489883707205912\n"
          ]
        }
      ]
    },
    {
      "cell_type": "code",
      "source": [
        "# Since best metrics were for random forest, we obtain confusion matrix for RF \n",
        "from sklearn import metrics\n",
        "confusion_matrix = metrics.confusion_matrix(y_test, y_pred_rf)\n",
        "cm_display = metrics.ConfusionMatrixDisplay(confusion_matrix = confusion_matrix)\n",
        "cm_display.plot()\n",
        "plt.show()"
      ],
      "metadata": {
        "colab": {
          "base_uri": "https://localhost:8080/",
          "height": 449
        },
        "id": "PcQu6ZBdYNnV",
        "outputId": "47b30cca-1600-4e9a-94ae-44047c082889"
      },
      "execution_count": 20,
      "outputs": [
        {
          "output_type": "display_data",
          "data": {
            "text/plain": [
              "<Figure size 640x480 with 2 Axes>"
            ],
            "image/png": "[encoded data removed]"
          },
          "metadata": {}
        }
      ]
    },
    {
      "cell_type": "code",
      "source": [
        "# Calculating accuracy of every character in the random forest model to analyse places where the model fails\n",
        "accuracies = []\n",
        "  \n",
        "for i in range(26):\n",
        "    row = confusion_matrix[i, :]\n",
        "    total_count = np.sum(row)\n",
        "    accuracies.append(row[i] / total_count)\n",
        "\n",
        "for i in range(26):\n",
        "  print(chr(i + ord('a')) + \": \" + str(accuracies[i]))"
      ],
      "metadata": {
        "colab": {
          "base_uri": "https://localhost:8080/"
        },
        "id": "rpqKEz9UA4_B",
        "outputId": "dfe5ff95-864f-499b-e4b7-f8e554e7c1da"
      },
      "execution_count": 21,
      "outputs": [
        {
          "output_type": "stream",
          "name": "stdout",
          "text": [
            "a: 0.8536585365853658\n",
            "b: 0.7435897435897436\n",
            "c: 0.8333333333333334\n",
            "d: 0.7647058823529411\n",
            "e: 0.7317073170731707\n",
            "f: 0.7714285714285715\n",
            "g: 0.7878787878787878\n",
            "h: 0.5405405405405406\n",
            "i: 0.717948717948718\n",
            "j: 0.8409090909090909\n",
            "k: 0.813953488372093\n",
            "l: 0.6341463414634146\n",
            "m: 0.4864864864864865\n",
            "n: 0.6666666666666666\n",
            "o: 0.6595744680851063\n",
            "p: 0.8055555555555556\n",
            "q: 0.8484848484848485\n",
            "r: 0.8108108108108109\n",
            "s: 0.8536585365853658\n",
            "t: 0.7027027027027027\n",
            "u: 0.8055555555555556\n",
            "v: 0.7441860465116279\n",
            "w: 0.8484848484848485\n",
            "x: 0.7045454545454546\n",
            "y: 0.7619047619047619\n",
            "z: 0.7428571428571429\n"
          ]
        }
      ]
    },
    {
      "cell_type": "code",
      "source": [
        "# Doing one hot encoding on test and train arrays for applying neural network\n",
        "import tensorflow as tf\n",
        "\n",
        "res = []\n",
        "for t in y_train_nn:\n",
        "    res.append(ord(t)-ord('a'))\n",
        "y_train_nn_new = np.array(res)\n",
        "\n",
        "y_train_nn_new = tf.one_hot(y_train_nn_new,26,)\n",
        "\n",
        "res2 = []\n",
        "for t in y_test_nn:\n",
        "    res2.append(ord(t)-ord('a'))\n",
        "y_test_nn_new = np.array(res2)\n",
        "\n",
        "y_test_nn_new = tf.one_hot(y_test_nn_new,26,)"
      ],
      "metadata": {
        "id": "OgJzmj0X3Wta"
      },
      "execution_count": 28,
      "outputs": []
    },
    {
      "cell_type": "code",
      "source": [
        "#Neural network\n",
        "from tensorflow import keras\n",
        "from tensorflow.keras.optimizers import SGD\n",
        "\n",
        "#Creating convolusion neural network model\n",
        "model = tf.keras.models.Sequential([\n",
        "    tf.keras.layers.Conv2D(1000, (3, 3), activation='relu', input_shape=(100, 20, 1)),\n",
        "    tf.keras.layers.MaxPooling2D((2, 2)),\n",
        "    tf.keras.layers.Conv2D(500, (3, 3), activation='relu'),\n",
        "    tf.keras.layers.MaxPooling2D((2, 2)),\n",
        "    tf.keras.layers.Flatten(),\n",
        "    tf.keras.layers.Dropout(0.3),\n",
        "    tf.keras.layers.Dense(units=500, activation=tf.nn.relu),\n",
        "    tf.keras.layers.Dense(units=125, activation=tf.nn.relu),\n",
        "    tf.keras.layers.Dense(units=26, activation=tf.nn.sigmoid)\n",
        "])\n",
        "\n",
        "# Compiling and optimizing model\n",
        "model.compile(optimizer='adam', loss = 'categorical_crossentropy',metrics=['accuracy'])\n",
        "\n",
        "# Training the model\n",
        "model.fit(X_train_nn,y_train_nn_new, epochs=10)"
      ],
      "metadata": {
        "colab": {
          "base_uri": "https://localhost:8080/"
        },
        "id": "EK1GP6FfEm3z",
        "outputId": "92033e56-49a7-4f22-b444-171e8f6aaefe"
      },
      "execution_count": 30,
      "outputs": [
        {
          "output_type": "stream",
          "name": "stdout",
          "text": [
            "Epoch 1/10\n",
            "125/125 [==============================] - 22s 46ms/step - loss: 2.2539 - accuracy: 0.3252\n",
            "Epoch 2/10\n",
            "125/125 [==============================] - 6s 46ms/step - loss: 1.1422 - accuracy: 0.6305\n",
            "Epoch 3/10\n",
            "125/125 [==============================] - 6s 46ms/step - loss: 0.8117 - accuracy: 0.7393\n",
            "Epoch 4/10\n",
            "125/125 [==============================] - 6s 46ms/step - loss: 0.5378 - accuracy: 0.8217\n",
            "Epoch 5/10\n",
            "125/125 [==============================] - 6s 46ms/step - loss: 0.3761 - accuracy: 0.8838\n",
            "Epoch 6/10\n",
            "125/125 [==============================] - 6s 46ms/step - loss: 0.2585 - accuracy: 0.9212\n",
            "Epoch 7/10\n",
            "125/125 [==============================] - 6s 47ms/step - loss: 0.1569 - accuracy: 0.9525\n",
            "Epoch 8/10\n",
            "125/125 [==============================] - 6s 46ms/step - loss: 0.1753 - accuracy: 0.9423\n",
            "Epoch 9/10\n",
            "125/125 [==============================] - 6s 46ms/step - loss: 0.1397 - accuracy: 0.9597\n",
            "Epoch 10/10\n",
            "125/125 [==============================] - 6s 48ms/step - loss: 0.0856 - accuracy: 0.9737\n"
          ]
        },
        {
          "output_type": "execute_result",
          "data": {
            "text/plain": [
              "<keras.callbacks.History at 0x7f83a92b8b50>"
            ]
          },
          "metadata": {},
          "execution_count": 30
        }
      ]
    },
    {
      "cell_type": "code",
      "source": [
        "# Evaluating Score\n",
        "score = model.evaluate(X_test_nn,y_test_nn_new)\n",
        "print(score)"
      ],
      "metadata": {
        "colab": {
          "base_uri": "https://localhost:8080/"
        },
        "id": "9zMTheR4RMG7",
        "outputId": "8c29d454-679c-463e-b208-3e060648118b"
      },
      "execution_count": 31,
      "outputs": [
        {
          "output_type": "stream",
          "name": "stdout",
          "text": [
            "32/32 [==============================] - 1s 23ms/step - loss: 1.5360 - accuracy: 0.7540\n",
            "[1.5360394716262817, 0.7540000081062317]\n"
          ]
        }
      ]
    },
    {
      "cell_type": "markdown",
      "source": [
        "**QUESTION 1:**\n",
        "\n",
        "Accuracy is a commonly used metric for evaluating classification models,including Logistic Regression, Support Vector Machines (SVM), and Random Forest, in optical character recognition (OCR) tasks. However, depending on the specific requirements and characteristics of the OCR application, other metrics can provide additional insights and may be more appropriate.\n",
        "\n",
        "Here are some alternative metrics that you can consider when comparing OCR models:\n",
        "\n",
        "1. Precision and Recall: Precision measures the proportion of correctly predicted positive instances (correctly recognized characters) out of the total instances predicted as positive. Recall, on the other hand, measures the proportion of correctly predicted positive instances out of the total actual positive instances. These metrics are particularly useful when there is a class imbalance in the data, where one class (e.g., a specific character) is much more prevalent than others.\n",
        "\n",
        "2. F1 Score: The F1 score is the harmonic mean of precision and recall and provides a single metric to balance both measures. It can be useful when you want to find a balance between precision and recall.\n",
        "\n",
        "3. Receiver Operating Characteristic (ROC) Curve and Area Under the Curve (AUC): The ROC curve plots the true positive rate (sensitivity) against the false positive rate (1-specificity) for different classification thresholds. The AUC summarizes the ROC curve by providing a single metric that represents the overall performance of the model. ROC curves and AUC are particularly useful when you want to understand the trade-off between the true positive rate and false positive rate.\n",
        "\n",
        "4. Mean Average Precision (mAP): This metric is commonly used in object detection tasks but can also be applied to OCR. It measures the average precision across multiple recall levels. It can be useful when you want to assess the overall performance of the OCR system at different levels of recognition.\n",
        "\n",
        "5. Word Error Rate (WER): WER measures the number of errors (substitutions, deletions, and insertions) between the predicted text and the ground truth. It provides a measure of how well the OCR system performs in terms of the final output.\n",
        "\n",
        "Accuracy is not always the best way to measure the performance of machine learning models in several scenarios. Here are a few situations where accuracy may not be the most suitable metric:\n",
        "\n",
        "1. Imbalanced datasets: When the classes in a dataset are imbalanced, meaning one class has significantly more samples than the others, accuracy can be misleading. A model that simply predicts the majority class will achieve a high accuracy, but it may fail to detect the minority class. In such cases, metrics like precision, recall, F1 score, or area under the receiver operating characteristic curve (AUC-ROC) are more informative.\n",
        "\n",
        "2. Cost-sensitive scenarios: In certain applications, misclassifying certain classes can have more severe consequences or costs compared to others. For example, in medical diagnosis, false negatives (missing a positive case) might be more critical than false positives. In such cases, optimizing for accuracy alone may not align with the desired outcome. Instead, custom evaluation metrics that incorporate the associated costs or consequences of different errors should be considered.\n",
        "\n",
        "3. Anomalies or rare events: In anomaly detection or rare event prediction tasks, where the focus is on identifying uncommon occurrences, accuracy may not be a suitable metric. Since the majority of instances are expected to be normal or common, even a model that performs poorly on rare events could still achieve high accuracy due to its correct predictions on the majority class. Metrics such as precision at a given recall level, area under the precision-recall curve (AUC-PR), or anomaly detection metrics like the F1 score for anomalies may be more appropriate.\n",
        "\n",
        "4. Context-specific requirements: Machine learning models are often deployed in specific contexts with unique requirements. Accuracy alone may not capture the full picture of model performance in these cases. For example, in natural language processing tasks like sentiment analysis, accuracy may not consider the varying degrees of sentiment intensity. In such cases, evaluation metrics like mean squared error (MSE) or mean absolute error (MAE) can provide more granular insights.\n",
        "\n",
        "In summary, the choice of evaluation metric should be guided by the specific characteristics of the dataset, the problem domain, and the desired outcome, taking into account factors such as class imbalance, cost sensitivity, rare events, and context-specific requirements."
      ],
      "metadata": {
        "id": "VIrvqqiuDtxC"
      }
    },
    {
      "cell_type": "markdown",
      "source": [
        "**QUESTION 2:**\n",
        "\n",
        "LOGISTIC REGRESSION:\n",
        "No hyperparameters changed, as doing that reduced the scores further\n",
        "\n",
        "SVM:\n",
        "1. C: Regularization parameter. The strength of the regularization is inversely proportional to C. Reducing the regularization helped improve the scores further\n",
        "2. Kernel: All kernels other than the default radial basis function (RBF) led to a decrease in accuracy and other scores\n",
        "3. Gamma: Gamma parameter of RBF controls the distance of the influence of a single training point.\n",
        "\n",
        "RANDOM FOREST:\n",
        "1. Number of estimators: increasing number of estimators helped increase accuracy to a point, after which the model started overfitting the training set\n",
        "2. Criterion: The function to measure the quality of a split. The default criterion are “gini” for the Gini impurity worked best for our use case.\n",
        "3. Max Depth: Increasing maximum depth of tree will enable better scores till one point after which overfitting starts to happen.\n",
        "4. Minimum Samples Split: Increasing the split per tree to 3 reinforced the decision making process of the model\n",
        "5. Max Features: max_features=log2(n_features), the search for a split does not stop until at least one valid partition of the node samples is found, even if it requires to effectively inspect more than max_features features."
      ],
      "metadata": {
        "id": "KgYgbSuaRJ5e"
      }
    },
    {
      "cell_type": "markdown",
      "source": [
        "**QUESTION 3:**\n",
        "The metrics have been calculated in the notebook, these are the observed values:\n",
        "\n",
        "Accuracy of Logistic Regression: 60.0\n",
        "Precison score of Logistic Regression: 0.6461632618915196\n",
        "Recall Score of Logistic Regression: 0.6\n",
        "F1 Score of Logistic Regression: 0.6052123203662458\n",
        "\n",
        "Accuracy of SVM: 74.3\n",
        "Precison score of SVM: 0.7532930283547948\n",
        "Recall Score of SVM: 0.743\n",
        "F1 Score of SVM: 0.7449632351782526\n",
        "\n",
        "Accuracy of Random Forest: 74.9\n",
        "Precison score of Random Forest: 0.7595426501295861\n",
        "Recall Score of Random Forest: 0.749\n",
        "F1 Score of Random Forest: 0.7489883707205912"
      ],
      "metadata": {
        "id": "7bHPQXlA7Z3J"
      }
    },
    {
      "cell_type": "markdown",
      "source": [
        "**QUESTION 4:**\n",
        " \n",
        "The least accuracy is for alphabets 'm' and 'h'. This is because they are clashing with the following alphabets:\n",
        "\n",
        "m: w\n",
        "\n",
        "h: b and f\n",
        "\n",
        "\n",
        "The reason for this is that some of the images are crooked and rotated so the random forest model mistakes the positioning of lines which are quite similar in these characters, making them position of pitfalls. There are many common features in the shapes and writing styles of these characters."
      ],
      "metadata": {
        "id": "NhLY95yc7D9c"
      }
    },
    {
      "cell_type": "markdown",
      "source": [
        "**QUESTION 5:**\n",
        "\n",
        "We have chosen to train a convolutional neural network for this task. We have put 2 convolutional layers and a few dense layers after that. We have also implemented dropout regularization to prevent overfitting and get better accuracy on the testing set. We get an accuracy of 75.4%, which is better than the one we got with random forest and SVM. We train our model for 10 epochs to get a satisfying accuracy and not overfit the training dataset."
      ],
      "metadata": {
        "id": "pCBqTiQk8Uff"
      }
    },
    {
      "cell_type": "code",
      "source": [],
      "metadata": {
        "id": "KXa03oxOFZUf"
      },
      "execution_count": null,
      "outputs": []
    }
  ]
}